{
  "nbformat": 4,
  "nbformat_minor": 0,
  "metadata": {
    "colab": {
      "name": "Localization.ipynb",
      "provenance": [],
      "collapsed_sections": []
    },
    "kernelspec": {
      "name": "python3",
      "display_name": "Python 3"
    },
    "language_info": {
      "name": "python"
    }
  },
  "cells": [
    {
      "cell_type": "markdown",
      "metadata": {
        "id": "2cLRku0QSmvy"
      },
      "source": [
        "####**Plate detection and localization using W-pod Net.**"
      ]
    },
    {
      "cell_type": "code",
      "metadata": {
        "id": "KtlHgsQeS9wP"
      },
      "source": [
        "from google.colab import drive\n",
        "drive.mount('/content/drive')"
      ],
      "execution_count": null,
      "outputs": []
    },
    {
      "cell_type": "code",
      "metadata": {
        "id": "sh-ot-JCS_3p"
      },
      "source": [
        "import cv2\n",
        "import os\n",
        "import numpy as np\n",
        "import matplotlib.pyplot as plt\n",
        "from os.path import splitext, basename\n",
        "from keras.models import model_from_json\n",
        "import glob\n",
        "import matplotlib\n",
        "from keras.preprocessing.image import load_img, img_to_array\n",
        "from keras.applications.mobilenet_v2 import preprocess_input\n",
        "from sklearn.preprocessing import LabelEncoder\n",
        "# %matplotlib.inline"
      ],
      "execution_count": null,
      "outputs": []
    },
    {
      "cell_type": "markdown",
      "metadata": {
        "id": "dAO9EzMuTcA1"
      },
      "source": [
        "Loading W-pod net."
      ]
    },
    {
      "cell_type": "code",
      "metadata": {
        "id": "cb4pvYPkT9ho"
      },
      "source": [
        "def load_model(path):\n",
        "    try:\n",
        "        path = splitext(path)[0]\n",
        "        with open('%s.json' % path, 'r') as json_file:\n",
        "            model_json = json_file.read()\n",
        "        model = model_from_json(model_json, custom_objects={})\n",
        "        model.load_weights('%s.h5' % path)\n",
        "        print(\"Loading model successfully...\")\n",
        "        return model\n",
        "    except Exception as e:\n",
        "        print(e)\n",
        "        \n",
        "wpod_net_path = \"/content/drive/MyDrive/Colab Notebooks/ALPR/models/Plate_detect_and_recognize/wpod-net.json\"\n",
        "wpod_net = load_model(wpod_net_path)"
      ],
      "execution_count": null,
      "outputs": []
    },
    {
      "cell_type": "markdown",
      "metadata": {
        "id": "csHVTHN_UWx3"
      },
      "source": [
        "Reading image, changing from bgr to rgb, normalizing it in between 0-1 and then resizing it to a size of (180, 200)"
      ]
    },
    {
      "cell_type": "code",
      "metadata": {
        "id": "nQOdirOxTY8y"
      },
      "source": [
        "def preprocess_image(image_path,resize=False):\n",
        "    img = cv2.imread(image_path, cv2.IMREAD_UNCHANGED)\n",
        "    img = cv2.cvtColor(img, cv2.COLOR_BGR2RGB)\n",
        "    img = img / 255\n",
        "   \n",
        "    if resize:\n",
        "        img = cv2.resize(img, (180,200))\n",
        "    return img"
      ],
      "execution_count": null,
      "outputs": []
    },
    {
      "cell_type": "markdown",
      "metadata": {
        "id": "1o3_J-EYTF_T"
      },
      "source": [
        "Loading image of the vehicles and plotting some of them."
      ]
    },
    {
      "cell_type": "code",
      "metadata": {
        "id": "APbcf9qqUrbl"
      },
      "source": [
        "image_paths = glob.glob('/content/drive/MyDrive/Colab Notebooks/ALPR/SISR/ALPR_Distorted/vehicle_images/*.jpg')\n",
        "print(\"Found {} images...\".format(len(image_paths)))\n",
        "\n",
        "fig = plt.figure(figsize=(12, 8))\n",
        "cols = 5\n",
        "rows = 6\n",
        "fig_list = []\n",
        "\n",
        "\n",
        "for i in range(25):\n",
        "    fig_list.append(fig.add_subplot(rows, cols, i+1))\n",
        "    title = splitext(basename(image_paths[i]))[0]\n",
        "    fig_list[-1].set_title(title)\n",
        "    img = preprocess_image(image_paths[i], True)\n",
        "    plt.axis(False)\n",
        "    plt.imshow(img)\n",
        "\n",
        "plt.tight_layout(True)\n",
        "plt.show()\n"
      ],
      "execution_count": null,
      "outputs": []
    },
    {
      "cell_type": "code",
      "metadata": {
        "id": "8nAhZ4_kVJRu"
      },
      "source": [
        "# pylint: disable=invalid-name, redefined-outer-name, missing-docstring, non-parent-init-called, trailing-whitespace, line-too-long\n",
        "class Label:\n",
        "    def __init__(self, cl=-1, tl=np.array([0., 0.]), br=np.array([0., 0.]), prob=None):\n",
        "        self.__tl = tl\n",
        "        self.__br = br\n",
        "        self.__cl = cl\n",
        "        self.__prob = prob\n",
        "\n",
        "    def __str__(self):\n",
        "        return 'Class: %d, top left(x: %f, y: %f), bottom right(x: %f, y: %f)' % (\n",
        "        self.__cl, self.__tl[0], self.__tl[1], self.__br[0], self.__br[1])\n",
        "\n",
        "    def copy(self):\n",
        "        return Label(self.__cl, self.__tl, self.__br)\n",
        "\n",
        "    def wh(self): return self.__br - self.__tl\n",
        "\n",
        "    def cc(self): return self.__tl + self.wh() / 2\n",
        "\n",
        "    def tl(self): return self.__tl\n",
        "\n",
        "    def br(self): return self.__br\n",
        "\n",
        "    def tr(self): return np.array([self.__br[0], self.__tl[1]])\n",
        "\n",
        "    def bl(self): return np.array([self.__tl[0], self.__br[1]])\n",
        "\n",
        "    def cl(self): return self.__cl\n",
        "\n",
        "    def area(self): return np.prod(self.wh())\n",
        "\n",
        "    def prob(self): return self.__prob\n",
        "\n",
        "    def set_class(self, cl):\n",
        "        self.__cl = cl\n",
        "\n",
        "    def set_tl(self, tl):\n",
        "        self.__tl = tl\n",
        "\n",
        "    def set_br(self, br):\n",
        "        self.__br = br\n",
        "\n",
        "    def set_wh(self, wh):\n",
        "        cc = self.cc()\n",
        "        self.__tl = cc - .5 * wh\n",
        "        self.__br = cc + .5 * wh\n",
        "\n",
        "    def set_prob(self, prob):\n",
        "        self.__prob = prob\n",
        "\n",
        "class DLabel(Label):\n",
        "    def __init__(self, cl, pts, prob):\n",
        "        self.pts = pts\n",
        "        tl = np.amin(pts, axis=1)\n",
        "        br = np.amax(pts, axis=1)\n",
        "        Label.__init__(self, cl, tl, br, prob)\n",
        "\n",
        "def getWH(shape):\n",
        "    return np.array(shape[1::-1]).astype(float)\n",
        "\n",
        "def IOU(tl1, br1, tl2, br2):\n",
        "    wh1, wh2 = br1-tl1, br2-tl2\n",
        "    assert((wh1 >= 0).all() and (wh2 >= 0).all())\n",
        "    \n",
        "    intersection_wh = np.maximum(np.minimum(br1, br2) - np.maximum(tl1, tl2), 0)\n",
        "    intersection_area = np.prod(intersection_wh)\n",
        "    area1, area2 = (np.prod(wh1), np.prod(wh2))\n",
        "    union_area = area1 + area2 - intersection_area\n",
        "    return intersection_area/union_area\n",
        "\n",
        "def IOU_labels(l1, l2):\n",
        "    return IOU(l1.tl(), l1.br(), l2.tl(), l2.br())\n",
        "\n",
        "def nms(Labels, iou_threshold=0.5):\n",
        "    SelectedLabels = []\n",
        "    Labels.sort(key=lambda l: l.prob(), reverse=True)\n",
        "    \n",
        "    for label in Labels:\n",
        "        non_overlap = True\n",
        "        for sel_label in SelectedLabels:\n",
        "            if IOU_labels(label, sel_label) > iou_threshold:\n",
        "                non_overlap = False\n",
        "                break\n",
        "\n",
        "        if non_overlap:\n",
        "            SelectedLabels.append(label)\n",
        "    return SelectedLabels\n",
        "\n",
        "\n",
        "\n",
        "def find_T_matrix(pts, t_pts):\n",
        "    A = np.zeros((8, 9))\n",
        "    for i in range(0, 4):\n",
        "        xi = pts[:, i]\n",
        "        xil = t_pts[:, i]\n",
        "        xi = xi.T\n",
        "        \n",
        "        A[i*2, 3:6] = -xil[2]*xi\n",
        "        A[i*2, 6:] = xil[1]*xi\n",
        "        A[i*2+1, :3] = xil[2]*xi\n",
        "        A[i*2+1, 6:] = -xil[0]*xi\n",
        "\n",
        "    [U, S, V] = np.linalg.svd(A)\n",
        "    H = V[-1, :].reshape((3, 3))\n",
        "    return H\n",
        "\n",
        "def getRectPts(tlx, tly, brx, bry):\n",
        "    return np.matrix([[tlx, brx, brx, tlx], [tly, tly, bry, bry], [1, 1, 1, 1]], dtype=float)\n",
        "\n",
        "def normal(pts, side, mn, MN):\n",
        "    pts_MN_center_mn = pts * side\n",
        "    pts_MN = pts_MN_center_mn + mn.reshape((2, 1))\n",
        "    pts_prop = pts_MN / MN.reshape((2, 1))\n",
        "    return pts_prop\n",
        "\n",
        "# Reconstruction function from predict value into plate crpoped from image\n",
        "def reconstruct(I, Iresized, Yr, lp_threshold):\n",
        "    # 4 max-pooling layers, stride = 2\n",
        "    net_stride = 2**4\n",
        "    side = ((208 + 40)/2)/net_stride\n",
        "\n",
        "    # one line and two lines license plate size\n",
        "    one_line = (70, 50)\n",
        "    two_lines = (70, 50)\n",
        "\n",
        "    Probs = Yr[..., 0]\n",
        "    Affines = Yr[..., 2:]\n",
        "\n",
        "    xx, yy = np.where(Probs > lp_threshold)\n",
        "    # CNN input image size \n",
        "    WH = getWH(Iresized.shape)\n",
        "    # output feature map size\n",
        "    MN = WH/net_stride\n",
        "\n",
        "    vxx = vyy = 0.5 #alpha\n",
        "    base = lambda vx, vy: np.matrix([[-vx, -vy, 1], [vx, -vy, 1], [vx, vy, 1], [-vx, vy, 1]]).T\n",
        "    labels = []\n",
        "    labels_frontal = []\n",
        "\n",
        "    for i in range(len(xx)):\n",
        "        x, y = xx[i], yy[i]\n",
        "        affine = Affines[x, y]\n",
        "        prob = Probs[x, y]\n",
        "\n",
        "        mn = np.array([float(y) + 0.5, float(x) + 0.5])\n",
        "\n",
        "        # affine transformation matrix\n",
        "        A = np.reshape(affine, (2, 3))\n",
        "        A[0, 0] = max(A[0, 0], 0)\n",
        "        A[1, 1] = max(A[1, 1], 0)\n",
        "        # identity transformation\n",
        "        B = np.zeros((2, 3))\n",
        "        B[0, 0] = max(A[0, 0], 0)\n",
        "        B[1, 1] = max(A[1, 1], 0)\n",
        "\n",
        "        pts = np.array(A*base(vxx, vyy))\n",
        "        pts_frontal = np.array(B*base(vxx, vyy))\n",
        "\n",
        "        pts_prop = normal(pts, side, mn, MN)\n",
        "        frontal = normal(pts_frontal, side, mn, MN)\n",
        "\n",
        "        labels.append(DLabel(0, pts_prop, prob))\n",
        "        labels_frontal.append(DLabel(0, frontal, prob))\n",
        "        \n",
        "    final_labels = nms(labels, 0.1)\n",
        "    final_labels_frontal = nms(labels_frontal, 0.1)\n",
        "\n",
        "    #print(final_labels_frontal)\n",
        "    assert final_labels_frontal, \"No License plate is founded!\"\n",
        "\n",
        "    # LP size and type\n",
        "    out_size, lp_type = (two_lines, 2) if ((final_labels_frontal[0].wh()[0] / final_labels_frontal[0].wh()[1]) < 1.7) else (one_line, 1)\n",
        "\n",
        "    TLp = []\n",
        "    Cor = []\n",
        "    if len(final_labels):\n",
        "        final_labels.sort(key=lambda x: x.prob(), reverse=True)\n",
        "        for _, label in enumerate(final_labels):\n",
        "            t_ptsh = getRectPts(0, 0, out_size[0], out_size[1])\n",
        "            ptsh = np.concatenate((label.pts * getWH(I.shape).reshape((2, 1)), np.ones((1, 4))))\n",
        "            H = find_T_matrix(ptsh, t_ptsh)\n",
        "            Ilp = cv2.warpPerspective(I, H, out_size, borderValue=0)\n",
        "            TLp.append(Ilp)\n",
        "            Cor.append(ptsh)\n",
        "    return final_labels, TLp, lp_type, Cor\n",
        "\n",
        "def detect_lp(model, I, max_dim, lp_threshold):\n",
        "    min_dim_img = min(I.shape[:2])\n",
        "    factor = float(max_dim) / min_dim_img\n",
        "    w, h = (np.array(I.shape[1::-1], dtype=float) * factor).astype(int).tolist()\n",
        "    Iresized = cv2.resize(I, (w, h))\n",
        "    T = Iresized.copy()\n",
        "    T = T.reshape((1, T.shape[0], T.shape[1], T.shape[2]))\n",
        "    Yr = model.predict(T)\n",
        "    Yr = np.squeeze(Yr)\n",
        "    #print(Yr.shape)\n",
        "    L, TLp, lp_type, Cor = reconstruct(I, Iresized, Yr, lp_threshold)\n",
        "    return L, TLp, lp_type, Cor\n",
        "\n",
        "def get_plate(image_path, Dmax=608, Dmin=168):\n",
        "    vehicle = preprocess_image(image_path, resize = True)\n",
        "    ratio = float(max(vehicle.shape[:2])) / min(vehicle.shape[:2])\n",
        "    side = int(ratio * Dmin)\n",
        "    bound_dim = min(side, Dmax)\n",
        "    _ , LpImg, _, cor = detect_lp(wpod_net, vehicle, bound_dim, lp_threshold=0.5)\n",
        "    return LpImg, cor\n"
      ],
      "execution_count": null,
      "outputs": []
    },
    {
      "cell_type": "markdown",
      "metadata": {
        "id": "6WCdA8nqVeHQ"
      },
      "source": [
        "Code for using the model and above methods to get localized number plated of vehicles and saving it to the path specified."
      ]
    },
    {
      "cell_type": "code",
      "metadata": {
        "id": "UFo8buM-Vbc4"
      },
      "source": [
        "This part of code is only used while localizing a set of images and then saving them for further use\n",
        "\n",
        "k = 0\n",
        "for i in range(len(image_paths)):\n",
        "    try: \n",
        "        LpImg,_ = get_plate(image_paths[i])\n",
        "    except Exception as e:\n",
        "        continue\n",
        "    img_n = cv2.normalize(src=LpImg[0], dst=None, alpha=0, beta=255, norm_type=cv2.NORM_MINMAX, dtype=cv2.CV_8U)\n",
        "    img_n = cv2.cvtColor(img_n, cv2.COLOR_BGR2RGB)\n",
        "    # print(img_n.shape)\n",
        "    cv2.imwrite(\"/content/drive/MyDrive/Colab Notebooks/ALPR/Localized_Nepali_Number_Plates/{}.jpg\".format(k), img_n)\n",
        "    k = k + 1"
      ],
      "execution_count": null,
      "outputs": []
    }
  ]
}