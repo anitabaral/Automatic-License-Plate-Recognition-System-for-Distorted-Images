{
  "nbformat": 4,
  "nbformat_minor": 0,
  "metadata": {
    "colab": {
      "name": "Segmentation.ipynb",
      "provenance": []
    },
    "kernelspec": {
      "name": "python3",
      "display_name": "Python 3"
    },
    "language_info": {
      "name": "python"
    }
  },
  "cells": [
    {
      "cell_type": "markdown",
      "metadata": {
        "id": "yWUAzBlqV4F8"
      },
      "source": [
        "####**Character segmentation using contour-based approach.**"
      ]
    },
    {
      "cell_type": "code",
      "metadata": {
        "id": "vgDLQmynWE2V"
      },
      "source": [
        "from google.colab import drive\n",
        "drive.mount('/content/drive')"
      ],
      "execution_count": null,
      "outputs": []
    },
    {
      "cell_type": "code",
      "metadata": {
        "id": "swHf8kCGWGfU"
      },
      "source": [
        "import cv2\n",
        "import os\n",
        "import numpy as np\n",
        "import matplotlib.pyplot as plt\n",
        "from os.path import splitext, basename\n",
        "from keras.models import model_from_json\n",
        "import glob\n",
        "import matplotlib\n",
        "from keras.preprocessing.image import load_img, img_to_array\n",
        "from keras.applications.mobilenet_v2 import preprocess_input\n",
        "from sklearn.preprocessing import LabelEncoder\n",
        "from google.colab.patches import cv2_imshow\n",
        "import matplotlib.gridspec as gridspec"
      ],
      "execution_count": null,
      "outputs": []
    },
    {
      "cell_type": "markdown",
      "metadata": {
        "id": "IPMhFfmIWfKw"
      },
      "source": [
        "Loading the localized license number plates.\n"
      ]
    },
    {
      "cell_type": "code",
      "metadata": {
        "id": "J4sQef9LZ81T"
      },
      "source": [
        "def load_image():\n",
        "  train_images = []\n",
        "  image_path ='/content/drive/MyDrive/Colab Notebooks/ALPR/Localized_Nepali_Number_Plates/'\n",
        "  image = os.listdir(image_path)\n",
        "  for sample in image:\n",
        "    img_path =image_path+sample\n",
        "    train = cv2.imread(img_path)\n",
        "    train_images.append(train)\n",
        "  return train_images"
      ],
      "execution_count": null,
      "outputs": []
    },
    {
      "cell_type": "markdown",
      "metadata": {
        "id": "6zJkseIQLFlx"
      },
      "source": [
        "Grayscale and binray conversion of the images."
      ]
    },
    {
      "cell_type": "code",
      "metadata": {
        "id": "AbS4-uWPZ9nD"
      },
      "source": [
        "def imageprocessing(image):\n",
        "\n",
        "  #Convert to grayscale  image\n",
        "  gray = cv2.cvtColor(image,cv2.COLOR_BGR2GRAY)\n",
        "\n",
        "  #Applied inversed thresh_binary \n",
        "  binary = cv2.threshold(gray,180,255,cv2.THRESH_BINARY_INV+cv2.THRESH_OTSU)[1]\n",
        "  \n",
        "  return binary"
      ],
      "execution_count": null,
      "outputs": []
    },
    {
      "cell_type": "markdown",
      "metadata": {
        "id": "BrgQ9r6tMVim"
      },
      "source": [
        "Method to save images"
      ]
    },
    {
      "cell_type": "code",
      "metadata": {
        "id": "QJizQ7CdL1b5"
      },
      "source": [
        "def save_image(epoch,crop_characters):\n",
        "  for i in range(len(crop_characters)):\n",
        "    crop_characters[i] = cv2.cvtColor(crop_characters[i], cv2.COLOR_BGR2RGB)\n",
        "\n",
        "    cv2.imwrite('/content/drive/MyDrive/Colab Notebooks/ALPR/SISR/ALPR_Distorted/Segmented/image{}_{}.jpg'.format(epoch,i),cv2.cvtColor(crop_characters[i],cv2.COLOR_BGR2RGB))\n",
        "\n",
        "    "
      ],
      "execution_count": null,
      "outputs": []
    },
    {
      "cell_type": "markdown",
      "metadata": {
        "id": "7EcuicyeMSTP"
      },
      "source": [
        "Obtaining the segmented characters and saving them."
      ]
    },
    {
      "cell_type": "code",
      "metadata": {
        "id": "aCgH9ZTVKiWA"
      },
      "source": [
        "# Create sort_contours() function to grab the contour of each digit from left to right\n",
        "for i in range(len(image)):\n",
        "  # plt.imshow(image[i])\n",
        "    binary =imageprocessing(image[i])\n",
        "  \n",
        "    def sort_contours(cnts,reverse = False):\n",
        "        i = 0\n",
        "        boundingBoxes = [cv2.boundingRect(c) for c in cnts]\n",
        "        (cnts, boundingBoxes) = zip(*sorted(zip(cnts, boundingBoxes),\n",
        "                                        key=lambda b: b[1][i], reverse=reverse))\n",
        "        return cnts\n",
        "\n",
        "\n",
        "    cont, _  = cv2.findContours(binary, cv2.RETR_TREE, cv2.CHAIN_APPROX_SIMPLE)\n",
        "    # creat a copy version \"test_roi\" of plat_image to draw bounding box\n",
        "    test_roi = image[i].copy()\n",
        "\n",
        "    # Initialize a list which will be used to append charater image\n",
        "    crop_characters = []\n",
        "\n",
        "    # define standard width and height of character\n",
        "    digit_w, digit_h = 30, 50\n",
        "\n",
        "    for c in sort_contours(cont):\n",
        "\n",
        "        (x, y, w, h) = cv2.boundingRect(c)\n",
        "        ratio = h/w\n",
        "    \n",
        "        if 0.0<=ratio<=2:# Only select contour with defined ratio\n",
        "        # print(h/image.shape[0])\n",
        "            if h/plate_image.shape[0]>=0.2: # Select contour which has the height larger than 20% of the plate\n",
        "            \n",
        "            # print(k)\n",
        "            # Draw bounding box arroung digit number\n",
        "                cv2.rectangle(test_roi, (x, y), (x + w, y + h), (0, 255,0), 2)\n",
        "\n",
        "            # Sperate number and gibe prediction\n",
        "                curr_num = image[i][y:y+h,x:x+w]\n",
        "                curr_num = cv2.resize(curr_num, dsize=(digit_w, digit_h))\n",
        "                crop_characters.append(curr_num)\n",
        "            \n",
        "        \n",
        "    save_image(i,crop_characters)\n",
        "\n"
      ],
      "execution_count": null,
      "outputs": []
    }
  ]
}